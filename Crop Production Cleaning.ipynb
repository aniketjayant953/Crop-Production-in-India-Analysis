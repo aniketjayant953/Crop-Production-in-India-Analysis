{
 "cells": [
  {
   "cell_type": "markdown",
   "id": "b32e8763",
   "metadata": {},
   "source": [
    "# Crop Production"
   ]
  },
  {
   "cell_type": "code",
   "execution_count": 1,
   "id": "d3561251",
   "metadata": {},
   "outputs": [],
   "source": [
    "import pandas as pd\n",
    "import numpy as np\n",
    "import matplotlib.pyplot as plt\n",
    "import seaborn as sns\n",
    "# pd.set_option('display.max_rows', None)"
   ]
  },
  {
   "cell_type": "code",
   "execution_count": 2,
   "id": "beb7c5a4",
   "metadata": {},
   "outputs": [],
   "source": [
    "df = pd.read_csv('Crop.csv')"
   ]
  },
  {
   "cell_type": "code",
   "execution_count": 134,
   "id": "c7ff94b7",
   "metadata": {},
   "outputs": [
    {
     "data": {
      "text/html": [
       "<div>\n",
       "<style scoped>\n",
       "    .dataframe tbody tr th:only-of-type {\n",
       "        vertical-align: middle;\n",
       "    }\n",
       "\n",
       "    .dataframe tbody tr th {\n",
       "        vertical-align: top;\n",
       "    }\n",
       "\n",
       "    .dataframe thead th {\n",
       "        text-align: right;\n",
       "    }\n",
       "</style>\n",
       "<table border=\"1\" class=\"dataframe\">\n",
       "  <thead>\n",
       "    <tr style=\"text-align: right;\">\n",
       "      <th></th>\n",
       "      <th>Column1</th>\n",
       "      <th>District_Name</th>\n",
       "      <th>Crop_Year</th>\n",
       "      <th>Season</th>\n",
       "      <th>Crop</th>\n",
       "      <th>Area</th>\n",
       "      <th>Production</th>\n",
       "    </tr>\n",
       "  </thead>\n",
       "  <tbody>\n",
       "    <tr>\n",
       "      <th>0</th>\n",
       "      <td>Andaman and Nicobar Islands</td>\n",
       "      <td>NICOBARS</td>\n",
       "      <td>2000</td>\n",
       "      <td>Kharif</td>\n",
       "      <td>Arecanut</td>\n",
       "      <td>1254.0</td>\n",
       "      <td>2000.0</td>\n",
       "    </tr>\n",
       "    <tr>\n",
       "      <th>1</th>\n",
       "      <td>Andaman and Nicobar Islands</td>\n",
       "      <td>NICOBARS</td>\n",
       "      <td>2000</td>\n",
       "      <td>Kharif</td>\n",
       "      <td>Other Kharif pulses</td>\n",
       "      <td>2.0</td>\n",
       "      <td>1.0</td>\n",
       "    </tr>\n",
       "    <tr>\n",
       "      <th>2</th>\n",
       "      <td>Andaman and Nicobar Islands</td>\n",
       "      <td>NICOBARS</td>\n",
       "      <td>2000</td>\n",
       "      <td>Kharif</td>\n",
       "      <td>Rice</td>\n",
       "      <td>102.0</td>\n",
       "      <td>321.0</td>\n",
       "    </tr>\n",
       "    <tr>\n",
       "      <th>3</th>\n",
       "      <td>Andaman and Nicobar Islands</td>\n",
       "      <td>NICOBARS</td>\n",
       "      <td>2000</td>\n",
       "      <td>Whole Year</td>\n",
       "      <td>Banana</td>\n",
       "      <td>176.0</td>\n",
       "      <td>641.0</td>\n",
       "    </tr>\n",
       "    <tr>\n",
       "      <th>4</th>\n",
       "      <td>Andaman and Nicobar Islands</td>\n",
       "      <td>NICOBARS</td>\n",
       "      <td>2000</td>\n",
       "      <td>Whole Year</td>\n",
       "      <td>Cashewnut</td>\n",
       "      <td>720.0</td>\n",
       "      <td>165.0</td>\n",
       "    </tr>\n",
       "  </tbody>\n",
       "</table>\n",
       "</div>"
      ],
      "text/plain": [
       "                       Column1 District_Name  Crop_Year       Season  \\\n",
       "0  Andaman and Nicobar Islands      NICOBARS       2000  Kharif        \n",
       "1  Andaman and Nicobar Islands      NICOBARS       2000  Kharif        \n",
       "2  Andaman and Nicobar Islands      NICOBARS       2000  Kharif        \n",
       "3  Andaman and Nicobar Islands      NICOBARS       2000  Whole Year    \n",
       "4  Andaman and Nicobar Islands      NICOBARS       2000  Whole Year    \n",
       "\n",
       "                  Crop    Area  Production  \n",
       "0             Arecanut  1254.0      2000.0  \n",
       "1  Other Kharif pulses     2.0         1.0  \n",
       "2                 Rice   102.0       321.0  \n",
       "3               Banana   176.0       641.0  \n",
       "4            Cashewnut   720.0       165.0  "
      ]
     },
     "execution_count": 134,
     "metadata": {},
     "output_type": "execute_result"
    }
   ],
   "source": [
    "df.head()"
   ]
  },
  {
   "cell_type": "markdown",
   "id": "e3659aa8",
   "metadata": {},
   "source": [
    "# Null Values"
   ]
  },
  {
   "cell_type": "code",
   "execution_count": 135,
   "id": "e0fce55e",
   "metadata": {
    "scrolled": true
   },
   "outputs": [
    {
     "data": {
      "text/plain": [
       "Column1             0\n",
       "District_Name       0\n",
       "Crop_Year           0\n",
       "Season              0\n",
       "Crop                0\n",
       "Area                0\n",
       "Production       3730\n",
       "dtype: int64"
      ]
     },
     "execution_count": 135,
     "metadata": {},
     "output_type": "execute_result"
    }
   ],
   "source": [
    "# Production has null values so I decided to remove it because it was just <5% of data\n",
    "df.isna().sum()"
   ]
  },
  {
   "cell_type": "code",
   "execution_count": 138,
   "id": "7b1fef9b",
   "metadata": {},
   "outputs": [],
   "source": [
    "df.dropna(inplace=True)"
   ]
  },
  {
   "cell_type": "code",
   "execution_count": 139,
   "id": "cde70465",
   "metadata": {},
   "outputs": [],
   "source": [
    "# Feature having 0 production is of no use also it was small chunk of data out of 26lakh rows\n",
    "df = df[df[\"Production\"]!= 0]"
   ]
  },
  {
   "cell_type": "code",
   "execution_count": 136,
   "id": "79664a59",
   "metadata": {},
   "outputs": [],
   "source": [
    "# Changing into Date format\n",
    "df['Crop_Year'] = pd.to_datetime(df['Crop_Year'], format='%Y')"
   ]
  },
  {
   "cell_type": "code",
   "execution_count": 137,
   "id": "996d1f98",
   "metadata": {},
   "outputs": [],
   "source": [
    "# Renaming the state column\n",
    "df.rename(columns={\"Column1\":\"State\"},inplace=True)"
   ]
  },
  {
   "cell_type": "code",
   "execution_count": 140,
   "id": "a2d96536",
   "metadata": {},
   "outputs": [],
   "source": [
    "# lot of blank trailing spaces got removes here \n",
    "df[\"State\"] = df[\"State\"].str.strip()\n",
    "df[\"Season\"] = df[\"Season\"].str.strip()\n",
    "df[\"Crop\"] = df[\"Crop\"].str.strip()"
   ]
  },
  {
   "cell_type": "markdown",
   "id": "ed39dcb2",
   "metadata": {},
   "source": [
    "# Feature Engineering"
   ]
  },
  {
   "cell_type": "code",
   "execution_count": 141,
   "id": "a01b29ad",
   "metadata": {},
   "outputs": [],
   "source": [
    "# Diving states into regions\n",
    "def regions(state):\n",
    "    east = ['Arunachal Pradesh','Assam','Bihar','Jharkhand','Manipur','Meghalaya', 'Mizoram', 'Nagaland','Odisha','Sikkim','Tripura','West Bengal','Chhattisgarh']\n",
    "    south = ['Andhra Pradesh','Karnataka', 'Kerala','Puducherry','Tamil Nadu', 'Telangana','Andaman and Nicobar Islands',]\n",
    "    west = ['Dadra and Nagar Haveli','Goa','Gujarat','Maharashtra',]\n",
    "    north = ['Chandigarh','Haryana','Himachal Pradesh','Jammu and Kashmir','Madhya Pradesh','Punjab', 'Rajasthan','Uttar Pradesh','Uttarakhand',]\n",
    "    \n",
    "    \n",
    "    if state in south:\n",
    "        return \"South\"\n",
    "    elif state in north:\n",
    "        return \"North\"\n",
    "    elif state in west:\n",
    "        return \"West\"\n",
    "    else:\n",
    "        return \"East\"\n",
    "    \n",
    "df['Regions'] = df['State'].apply(regions)"
   ]
  },
  {
   "cell_type": "markdown",
   "id": "4aa8471a",
   "metadata": {},
   "source": [
    "# Preprocessing and Cleaning"
   ]
  },
  {
   "cell_type": "code",
   "execution_count": 145,
   "id": "83edf245",
   "metadata": {},
   "outputs": [],
   "source": [
    "# Rabi and Kharif are less known words so I combined them with their overlapping seasons\n",
    "df.Season.replace({\"Kharif\":\"Monsoon\",\"Rabi\":\"Winter\",\"Autumn\":\"Winter\"},inplace=True)"
   ]
  },
  {
   "cell_type": "code",
   "execution_count": 147,
   "id": "08e24537",
   "metadata": {},
   "outputs": [],
   "source": [
    "# Cleaning lot of crops name\n",
    "df.Crop.replace({\"Arcanut (Processed)\":\"Arecanut\"},inplace=True)\n",
    "df.Crop.replace({'Atcanut (Raw)':\"Arecanut\"},inplace=True)\n",
    "df.Crop.replace({'Arcanut':\"Arecanut\"},inplace=True)\n",
    "\n",
    "df.Crop.replace({\"Kapas\":\"Cotton\"},inplace=True)\n",
    "df.Crop.replace({\"Cotton(lint)\":\"Cotton\"},inplace=True)\n",
    "\n",
    "df.Crop.replace({\"Jute & mesta\":\"Jute\"},inplace=True)\n",
    "\n",
    "# Making new category for Pulses that have miniscule contribution in the data\n",
    "df.Crop.replace({'other misc. pulses':\"Pulses\"},inplace=True)\n",
    "df.Crop.replace({'Other Kharif pulses':\"Pulses\"},inplace=True)\n",
    "df.Crop.replace({'Peas & beans (Pulses)':\"Pulses\"},inplace=True)\n",
    "df.Crop.replace({'Pulses total':\"Pulses\"},inplace=True)\n",
    "df.Crop.replace({'Other  Rabi pulses':\"Pulses\"},inplace=True)\n",
    "df.Crop.replace({'other misc. pulses':\"Pulses\"},inplace=True)\n",
    "df.Crop.replace({'Lentil':\"Pulses\"},inplace=True)\n",
    "df.Crop.replace({'Bean':\"Pulses\"},inplace=True)\n",
    "df.Crop.replace({'pulses':\"Pulses\"},inplace=True)\n",
    "df.Crop.replace({'Ricebean (nagadal)':'Pulses'},inplace=True)\n",
    "df.Crop.replace({'Korra':'Pulses'},inplace=True)\n",
    "\n",
    "# Making new category for oilseeds that have miniscule contribution in the data\n",
    "df.Crop.replace({'other oilseeds':\"Other Oilseeds\"},inplace=True)\n",
    "df.Crop.replace({'Niger seed':\"Other Oilseeds\"},inplace=True)\n",
    "df.Crop.replace({'Oilseeds total':\"Other Oilseeds\"},inplace=True)\n",
    "\n",
    "df.Crop.replace({'Dry ginger':\"Ginger\"},inplace=True)\n",
    "\n",
    "df.Crop.replace({'Cashewnut Processed':\"Cashewnut\"},inplace=True)\n",
    "df.Crop.replace({'Cashewnut Raw':\"Cashewnut\"},inplace=True)\n",
    "\n",
    "# Making new category for Fruits that have miniscule contribution in the data\n",
    "df.Crop.replace({'Papaya':\"Other Fruits\"},inplace=True)\n",
    "df.Crop.replace({'Water Melon':\"Other Fruits\"},inplace=True)\n",
    "df.Crop.replace({'Litchi':\"Other Fruits\"},inplace=True)\n",
    "df.Crop.replace({'Pome Granet':\"Other Fruits\"},inplace=True)\n",
    "df.Crop.replace({'Apple':\"Other Fruits\"},inplace=True)\n",
    "df.Crop.replace({'Ber':\"Other Fruits\"},inplace=True)\n",
    "df.Crop.replace({'Pump Kin':\"Other Fruits\"},inplace=True)\n",
    "df.Crop.replace({'Peach':\"Other Fruits\"},inplace=True)\n",
    "df.Crop.replace({'Pear':\"Other Fruits\"},inplace=True)\n",
    "df.Crop.replace({'Other Citrus Fruit':\"Other Fruits\"},inplace=True)\n",
    "df.Crop.replace({'Citrus Fruit':\"Other Fruits\"},inplace=True)\n",
    "df.Crop.replace({'Grapes':\"Other Fruits\"},inplace=True)\n",
    "df.Crop.replace({'Jack Fruit':\"Other Fruits\"},inplace=True)\n",
    "df.Crop.replace({'Jobster':\"Other Fruits\"},inplace=True)\n",
    "df.Crop.replace({'Lemon':\"Other Fruits\"},inplace=True)\n",
    "df.Crop.replace({'Other Fresh Fruits':\"Other Fruits\"},inplace=True)\n",
    "df.Crop.replace({'Pome Fruit':\"Other Fruits\"},inplace=True)\n",
    "df.Crop.replace({'Sapota':\"Other Fruits\"},inplace=True)\n",
    "\n",
    "# Making new category for Veggies that have miniscule contribution in the data\n",
    "df.Crop.replace({'Beet Root':\"Other Vegetables\"},inplace=True)\n",
    "df.Crop.replace({'Ash Gourd':\"Other Vegetables\"},inplace=True)\n",
    "df.Crop.replace({'Cucumber':\"Other Vegetables\"},inplace=True)\n",
    "df.Crop.replace({'Snak Guard':\"Other Vegetables\"},inplace=True)\n",
    "df.Crop.replace({'Lab-Lab':\"Other Vegetables\"},inplace=True)\n",
    "df.Crop.replace({'Ribed Guard':\"Other Vegetables\"},inplace=True)\n",
    "df.Crop.replace({'Peas  (vegetable)':\"Other Vegetables\"},inplace=True)\n",
    "df.Crop.replace({'Yam':\"Other Vegetables\"},inplace=True)\n",
    "df.Crop.replace({'Beans & Mutter(Vegetable)':\"Other Vegetables\"},inplace=True)\n",
    "df.Crop.replace({'Bhindi':\"Other Vegetables\"},inplace=True)\n",
    "df.Crop.replace({'Bitter Gourd':\"Other Vegetables\"},inplace=True)\n",
    "df.Crop.replace({'Brinjal':\"Other Vegetables\"},inplace=True)\n",
    "df.Crop.replace({'Cabbage':\"Other Vegetables\"},inplace=True)\n",
    "df.Crop.replace({'Bottle Gourd':\"Other Vegetables\"},inplace=True)\n",
    "df.Crop.replace({'Cauliflower':\"Other Vegetables\"},inplace=True)\n",
    "df.Crop.replace({'Carrot':\"Other Vegetables\"},inplace=True)\n",
    "df.Crop.replace({'Colocosia':\"Other Vegetables\"},inplace=True)\n",
    "df.Crop.replace({'Cowpea(Lobia)':\"Other Vegetables\"},inplace=True)\n",
    "df.Crop.replace({'Drum Stick':\"Other Vegetables\"},inplace=True)\n",
    "df.Crop.replace({'Vegetable':\"Other Vegetables\"},inplace=True)\n",
    "df.Crop.replace({'Perilla':\"Other Vegetables\"},inplace=True)\n",
    "df.Crop.replace({'Redish':\"Other Vegetables\"},inplace=True)\n",
    "df.Crop.replace({'Turnip':\"Other Vegetables\"},inplace=True)\n",
    "\n",
    "# Making new category for Cereals and millets that have miniscule contribution in the data\n",
    "df.Crop.replace({'Small millets':'Other Cereals & Millets'},inplace=True)\n",
    "df.Crop.replace({'Total foodgrain':'Other Cereals & Millets'},inplace=True)\n",
    "df.Crop.replace({'Varagu':'Other Cereals & Millets'},inplace=True)\n",
    "\n",
    "df.Crop.replace({'Paddy':'Rice'},inplace=True)\n",
    "\n",
    "df.Crop.replace({'Gram':'Other Grams'},inplace=True)\n",
    "df.Crop.replace({'Rajmash Kholar':'Other Grams'},inplace=True)"
   ]
  },
  {
   "cell_type": "code",
   "execution_count": 148,
   "id": "58961796",
   "metadata": {},
   "outputs": [],
   "source": [
    "# Removing these values since their value count was below 10 and was hindering me into doing visualization\n",
    "exclude = [\"other fibres\",'Other Dry Fruit','Cond-spcs other','Coffee', 'Rubber']\n",
    "\n",
    "df = df[~df['Crop'].isin(exclude)]"
   ]
  },
  {
   "cell_type": "code",
   "execution_count": 150,
   "id": "911204de",
   "metadata": {},
   "outputs": [],
   "source": [
    "# Exporting cleaned data for analysis\n",
    "df.to_csv('Cleaned_Crop.csv',index=False)"
   ]
  }
 ],
 "metadata": {
  "kernelspec": {
   "display_name": "Python 3 (ipykernel)",
   "language": "python",
   "name": "python3"
  },
  "language_info": {
   "codemirror_mode": {
    "name": "ipython",
    "version": 3
   },
   "file_extension": ".py",
   "mimetype": "text/x-python",
   "name": "python",
   "nbconvert_exporter": "python",
   "pygments_lexer": "ipython3",
   "version": "3.9.12"
  }
 },
 "nbformat": 4,
 "nbformat_minor": 5
}
